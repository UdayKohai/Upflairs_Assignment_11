{
 "cells": [
  {
   "cell_type": "code",
   "execution_count": null,
   "metadata": {},
   "outputs": [],
   "source": [
    "import numpy as np\n",
    "class A:\n",
    "    def __init__(self) -> None:\n",
    "        self.arr1 = (np.random.randint(1,50,60)).reshape(12,5)\n",
    "        print(self.arr1)\n",
    "    \n",
    "    def lastrow(self):\n",
    "        lst=[]\n",
    "        print(\"Enter Elements for New Last Row : \")\n",
    "        for i in range(1,6,1):\n",
    "            e=int(input(f\"Enter Elements {i} : \"))\n",
    "            lst.append(e)\n",
    "        self.arr1[-1]= lst\n",
    "        print(self.arr1)\n",
    "try:       \n",
    "    a= A()\n",
    "    a.lastrow()\n",
    "except Exception as e:\n",
    "    print(f\"Error : {e}\")\n"
   ]
  },
  {
   "cell_type": "code",
   "execution_count": null,
   "metadata": {},
   "outputs": [],
   "source": [
    "import numpy as np\n",
    "\n",
    "def min_max(arr1):\n",
    "    for i in arr1:\n",
    "        max1=i[0]\n",
    "        min1=i[0]\n",
    "        for k in i:\n",
    "            if max1<=k:\n",
    "                max1=k\n",
    "            elif min1>=k:\n",
    "                min1=k\n",
    "            else:\n",
    "                pass\n",
    "        print(f\"{i} , Max= {max1} Min = {min1}\")\n",
    "\n",
    "arr1= (np.random.randint(1,50,60)).reshape(12,5)\n",
    "print(arr1,'\\n')\n",
    "min_max(arr1)\n"
   ]
  }
 ],
 "metadata": {
  "kernelspec": {
   "display_name": "Python 3",
   "language": "python",
   "name": "python3"
  },
  "language_info": {
   "codemirror_mode": {
    "name": "ipython",
    "version": 3
   },
   "file_extension": ".py",
   "mimetype": "text/x-python",
   "name": "python",
   "nbconvert_exporter": "python",
   "pygments_lexer": "ipython3",
   "version": "3.12.3"
  }
 },
 "nbformat": 4,
 "nbformat_minor": 2
}
